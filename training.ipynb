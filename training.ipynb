{
 "cells": [
  {
   "cell_type": "markdown",
   "metadata": {},
   "source": [
    "# Hackathon"
   ]
  },
  {
   "cell_type": "markdown",
   "metadata": {},
   "source": [
    "$$ R(\\%) = 100 - \\frac{After}{Before}  $$"
   ]
  },
  {
   "cell_type": "code",
   "execution_count": 1,
   "metadata": {},
   "outputs": [
    {
     "name": "stdout",
     "output_type": "stream",
     "text": [
      "Defaulting to user installation because normal site-packages is not writeable\n",
      "Collecting ultralytics==8.0.26\n",
      "  Using cached ultralytics-8.0.26-py3-none-any.whl (271 kB)\n",
      "Requirement already satisfied: matplotlib>=3.2.2 in /Users/aelfirdo/Library/Python/3.9/lib/python/site-packages (from ultralytics==8.0.26) (3.7.1)\n",
      "Requirement already satisfied: numpy>=1.18.5 in /Users/aelfirdo/Library/Python/3.9/lib/python/site-packages (from ultralytics==8.0.26) (1.24.2)\n",
      "Requirement already satisfied: opencv-python>=4.6.0 in /Users/aelfirdo/Library/Python/3.9/lib/python/site-packages (from ultralytics==8.0.26) (4.8.0.76)\n",
      "Requirement already satisfied: Pillow>=7.1.2 in /Users/aelfirdo/Library/Python/3.9/lib/python/site-packages (from ultralytics==8.0.26) (9.4.0)\n",
      "Requirement already satisfied: PyYAML>=5.3.1 in /Users/aelfirdo/Library/Python/3.9/lib/python/site-packages (from ultralytics==8.0.26) (6.0)\n",
      "Requirement already satisfied: requests>=2.23.0 in /Users/aelfirdo/Library/Python/3.9/lib/python/site-packages (from ultralytics==8.0.26) (2.31.0)\n",
      "Requirement already satisfied: scipy>=1.4.1 in /Users/aelfirdo/Library/Python/3.9/lib/python/site-packages (from ultralytics==8.0.26) (1.10.1)\n",
      "Requirement already satisfied: torch>=1.7.0 in /Users/aelfirdo/Library/Python/3.9/lib/python/site-packages (from ultralytics==8.0.26) (2.0.1)\n",
      "Requirement already satisfied: torchvision>=0.8.1 in /Users/aelfirdo/Library/Python/3.9/lib/python/site-packages (from ultralytics==8.0.26) (0.15.2)\n",
      "Requirement already satisfied: tqdm>=4.64.0 in /Users/aelfirdo/Library/Python/3.9/lib/python/site-packages (from ultralytics==8.0.26) (4.66.1)\n",
      "Requirement already satisfied: tensorboard>=2.4.1 in /Users/aelfirdo/Library/Python/3.9/lib/python/site-packages (from ultralytics==8.0.26) (2.13.0)\n",
      "Requirement already satisfied: pandas>=1.1.4 in /Users/aelfirdo/Library/Python/3.9/lib/python/site-packages (from ultralytics==8.0.26) (1.5.3)\n",
      "Requirement already satisfied: seaborn>=0.11.0 in /Users/aelfirdo/Library/Python/3.9/lib/python/site-packages (from ultralytics==8.0.26) (0.12.2)\n",
      "Requirement already satisfied: ipython in /Users/aelfirdo/Library/Python/3.9/lib/python/site-packages (from ultralytics==8.0.26) (8.7.0)\n",
      "Requirement already satisfied: psutil in /Users/aelfirdo/Library/Python/3.9/lib/python/site-packages (from ultralytics==8.0.26) (5.9.4)\n",
      "Collecting thop>=0.1.1 (from ultralytics==8.0.26)\n",
      "  Using cached thop-0.1.1.post2209072238-py3-none-any.whl (15 kB)\n",
      "Collecting sentry-sdk (from ultralytics==8.0.26)\n",
      "  Obtaining dependency information for sentry-sdk from https://files.pythonhosted.org/packages/62/3a/765a7699a26884dcbf8b071dbe2a2486cc1cafcfb5f5d2e64ffe745dd0c6/sentry_sdk-1.31.0-py2.py3-none-any.whl.metadata\n",
      "  Downloading sentry_sdk-1.31.0-py2.py3-none-any.whl.metadata (9.8 kB)\n",
      "Requirement already satisfied: contourpy>=1.0.1 in /Users/aelfirdo/Library/Python/3.9/lib/python/site-packages (from matplotlib>=3.2.2->ultralytics==8.0.26) (1.0.7)\n",
      "Requirement already satisfied: cycler>=0.10 in /Users/aelfirdo/Library/Python/3.9/lib/python/site-packages (from matplotlib>=3.2.2->ultralytics==8.0.26) (0.11.0)\n",
      "Requirement already satisfied: fonttools>=4.22.0 in /Users/aelfirdo/Library/Python/3.9/lib/python/site-packages (from matplotlib>=3.2.2->ultralytics==8.0.26) (4.38.0)\n",
      "Requirement already satisfied: kiwisolver>=1.0.1 in /Users/aelfirdo/Library/Python/3.9/lib/python/site-packages (from matplotlib>=3.2.2->ultralytics==8.0.26) (1.4.4)\n",
      "Requirement already satisfied: packaging>=20.0 in /Users/aelfirdo/Library/Python/3.9/lib/python/site-packages (from matplotlib>=3.2.2->ultralytics==8.0.26) (22.0)\n",
      "Requirement already satisfied: pyparsing>=2.3.1 in /Users/aelfirdo/Library/Python/3.9/lib/python/site-packages (from matplotlib>=3.2.2->ultralytics==8.0.26) (3.0.9)\n",
      "Requirement already satisfied: python-dateutil>=2.7 in /Users/aelfirdo/Library/Python/3.9/lib/python/site-packages (from matplotlib>=3.2.2->ultralytics==8.0.26) (2.8.2)\n",
      "Requirement already satisfied: importlib-resources>=3.2.0 in /Users/aelfirdo/Library/Python/3.9/lib/python/site-packages (from matplotlib>=3.2.2->ultralytics==8.0.26) (5.12.0)\n",
      "Requirement already satisfied: pytz>=2020.1 in /Users/aelfirdo/Library/Python/3.9/lib/python/site-packages (from pandas>=1.1.4->ultralytics==8.0.26) (2022.7.1)\n",
      "Requirement already satisfied: charset-normalizer<4,>=2 in /Users/aelfirdo/Library/Python/3.9/lib/python/site-packages (from requests>=2.23.0->ultralytics==8.0.26) (3.1.0)\n",
      "Requirement already satisfied: idna<4,>=2.5 in /Users/aelfirdo/Library/Python/3.9/lib/python/site-packages (from requests>=2.23.0->ultralytics==8.0.26) (3.4)\n",
      "Requirement already satisfied: urllib3<3,>=1.21.1 in /Users/aelfirdo/Library/Python/3.9/lib/python/site-packages (from requests>=2.23.0->ultralytics==8.0.26) (1.26.15)\n",
      "Requirement already satisfied: certifi>=2017.4.17 in /Users/aelfirdo/Library/Python/3.9/lib/python/site-packages (from requests>=2.23.0->ultralytics==8.0.26) (2023.5.7)\n",
      "Requirement already satisfied: absl-py>=0.4 in /Users/aelfirdo/Library/Python/3.9/lib/python/site-packages (from tensorboard>=2.4.1->ultralytics==8.0.26) (1.4.0)\n",
      "Requirement already satisfied: grpcio>=1.48.2 in /Users/aelfirdo/Library/Python/3.9/lib/python/site-packages (from tensorboard>=2.4.1->ultralytics==8.0.26) (1.55.0)\n",
      "Requirement already satisfied: google-auth<3,>=1.6.3 in /Users/aelfirdo/Library/Python/3.9/lib/python/site-packages (from tensorboard>=2.4.1->ultralytics==8.0.26) (2.18.1)\n",
      "Requirement already satisfied: google-auth-oauthlib<1.1,>=0.5 in /Users/aelfirdo/Library/Python/3.9/lib/python/site-packages (from tensorboard>=2.4.1->ultralytics==8.0.26) (1.0.0)\n",
      "Requirement already satisfied: markdown>=2.6.8 in /Users/aelfirdo/Library/Python/3.9/lib/python/site-packages (from tensorboard>=2.4.1->ultralytics==8.0.26) (3.4.3)\n",
      "Requirement already satisfied: protobuf>=3.19.6 in /Users/aelfirdo/Library/Python/3.9/lib/python/site-packages (from tensorboard>=2.4.1->ultralytics==8.0.26) (4.23.1)\n",
      "Requirement already satisfied: setuptools>=41.0.0 in /Library/Developer/CommandLineTools/Library/Frameworks/Python3.framework/Versions/3.9/lib/python3.9/site-packages (from tensorboard>=2.4.1->ultralytics==8.0.26) (58.0.4)\n",
      "Requirement already satisfied: tensorboard-data-server<0.8.0,>=0.7.0 in /Users/aelfirdo/Library/Python/3.9/lib/python/site-packages (from tensorboard>=2.4.1->ultralytics==8.0.26) (0.7.0)\n",
      "Requirement already satisfied: werkzeug>=1.0.1 in /Users/aelfirdo/Library/Python/3.9/lib/python/site-packages (from tensorboard>=2.4.1->ultralytics==8.0.26) (2.3.4)\n",
      "Requirement already satisfied: wheel>=0.26 in /Library/Developer/CommandLineTools/Library/Frameworks/Python3.framework/Versions/3.9/lib/python3.9/site-packages (from tensorboard>=2.4.1->ultralytics==8.0.26) (0.37.0)\n",
      "Requirement already satisfied: filelock in /Users/aelfirdo/Library/Python/3.9/lib/python/site-packages (from torch>=1.7.0->ultralytics==8.0.26) (3.12.2)\n",
      "Requirement already satisfied: typing-extensions in /Users/aelfirdo/Library/Python/3.9/lib/python/site-packages (from torch>=1.7.0->ultralytics==8.0.26) (4.6.0)\n",
      "Requirement already satisfied: sympy in /Users/aelfirdo/Library/Python/3.9/lib/python/site-packages (from torch>=1.7.0->ultralytics==8.0.26) (1.12)\n",
      "Requirement already satisfied: networkx in /Users/aelfirdo/Library/Python/3.9/lib/python/site-packages (from torch>=1.7.0->ultralytics==8.0.26) (3.1)\n",
      "Requirement already satisfied: jinja2 in /Users/aelfirdo/Library/Python/3.9/lib/python/site-packages (from torch>=1.7.0->ultralytics==8.0.26) (3.1.2)\n",
      "Requirement already satisfied: backcall in /Users/aelfirdo/Library/Python/3.9/lib/python/site-packages (from ipython->ultralytics==8.0.26) (0.2.0)\n",
      "Requirement already satisfied: decorator in /Users/aelfirdo/Library/Python/3.9/lib/python/site-packages (from ipython->ultralytics==8.0.26) (5.1.1)\n",
      "Requirement already satisfied: jedi>=0.16 in /Users/aelfirdo/Library/Python/3.9/lib/python/site-packages (from ipython->ultralytics==8.0.26) (0.18.2)\n",
      "Requirement already satisfied: matplotlib-inline in /Users/aelfirdo/Library/Python/3.9/lib/python/site-packages (from ipython->ultralytics==8.0.26) (0.1.6)\n",
      "Requirement already satisfied: pickleshare in /Users/aelfirdo/Library/Python/3.9/lib/python/site-packages (from ipython->ultralytics==8.0.26) (0.7.5)\n",
      "Requirement already satisfied: prompt-toolkit<3.1.0,>=3.0.11 in /Users/aelfirdo/Library/Python/3.9/lib/python/site-packages (from ipython->ultralytics==8.0.26) (3.0.36)\n",
      "Requirement already satisfied: pygments>=2.4.0 in /Users/aelfirdo/Library/Python/3.9/lib/python/site-packages (from ipython->ultralytics==8.0.26) (2.13.0)\n",
      "Requirement already satisfied: stack-data in /Users/aelfirdo/Library/Python/3.9/lib/python/site-packages (from ipython->ultralytics==8.0.26) (0.6.2)\n",
      "Requirement already satisfied: traitlets>=5 in /Users/aelfirdo/Library/Python/3.9/lib/python/site-packages (from ipython->ultralytics==8.0.26) (5.8.0)\n",
      "Requirement already satisfied: pexpect>4.3 in /Users/aelfirdo/Library/Python/3.9/lib/python/site-packages (from ipython->ultralytics==8.0.26) (4.8.0)\n",
      "Requirement already satisfied: appnope in /Users/aelfirdo/Library/Python/3.9/lib/python/site-packages (from ipython->ultralytics==8.0.26) (0.1.3)\n",
      "Requirement already satisfied: cachetools<6.0,>=2.0.0 in /Users/aelfirdo/Library/Python/3.9/lib/python/site-packages (from google-auth<3,>=1.6.3->tensorboard>=2.4.1->ultralytics==8.0.26) (5.3.0)\n",
      "Requirement already satisfied: pyasn1-modules>=0.2.1 in /Users/aelfirdo/Library/Python/3.9/lib/python/site-packages (from google-auth<3,>=1.6.3->tensorboard>=2.4.1->ultralytics==8.0.26) (0.3.0)\n",
      "Requirement already satisfied: six>=1.9.0 in /Library/Developer/CommandLineTools/Library/Frameworks/Python3.framework/Versions/3.9/lib/python3.9/site-packages (from google-auth<3,>=1.6.3->tensorboard>=2.4.1->ultralytics==8.0.26) (1.15.0)\n",
      "Requirement already satisfied: rsa<5,>=3.1.4 in /Users/aelfirdo/Library/Python/3.9/lib/python/site-packages (from google-auth<3,>=1.6.3->tensorboard>=2.4.1->ultralytics==8.0.26) (4.9)\n",
      "Requirement already satisfied: requests-oauthlib>=0.7.0 in /Users/aelfirdo/Library/Python/3.9/lib/python/site-packages (from google-auth-oauthlib<1.1,>=0.5->tensorboard>=2.4.1->ultralytics==8.0.26) (1.3.1)\n",
      "Requirement already satisfied: zipp>=3.1.0 in /Users/aelfirdo/Library/Python/3.9/lib/python/site-packages (from importlib-resources>=3.2.0->matplotlib>=3.2.2->ultralytics==8.0.26) (3.11.0)\n",
      "Requirement already satisfied: parso<0.9.0,>=0.8.0 in /Users/aelfirdo/Library/Python/3.9/lib/python/site-packages (from jedi>=0.16->ipython->ultralytics==8.0.26) (0.8.3)\n",
      "Requirement already satisfied: importlib-metadata>=4.4 in /Users/aelfirdo/Library/Python/3.9/lib/python/site-packages (from markdown>=2.6.8->tensorboard>=2.4.1->ultralytics==8.0.26) (5.2.0)\n",
      "Requirement already satisfied: ptyprocess>=0.5 in /Users/aelfirdo/Library/Python/3.9/lib/python/site-packages (from pexpect>4.3->ipython->ultralytics==8.0.26) (0.7.0)\n",
      "Requirement already satisfied: wcwidth in /Users/aelfirdo/Library/Python/3.9/lib/python/site-packages (from prompt-toolkit<3.1.0,>=3.0.11->ipython->ultralytics==8.0.26) (0.2.5)\n",
      "Requirement already satisfied: MarkupSafe>=2.1.1 in /Users/aelfirdo/Library/Python/3.9/lib/python/site-packages (from werkzeug>=1.0.1->tensorboard>=2.4.1->ultralytics==8.0.26) (2.1.1)\n",
      "Requirement already satisfied: executing>=1.2.0 in /Users/aelfirdo/Library/Python/3.9/lib/python/site-packages (from stack-data->ipython->ultralytics==8.0.26) (1.2.0)\n",
      "Requirement already satisfied: asttokens>=2.1.0 in /Users/aelfirdo/Library/Python/3.9/lib/python/site-packages (from stack-data->ipython->ultralytics==8.0.26) (2.2.1)\n",
      "Requirement already satisfied: pure-eval in /Users/aelfirdo/Library/Python/3.9/lib/python/site-packages (from stack-data->ipython->ultralytics==8.0.26) (0.2.2)\n",
      "Requirement already satisfied: mpmath>=0.19 in /Users/aelfirdo/Library/Python/3.9/lib/python/site-packages (from sympy->torch>=1.7.0->ultralytics==8.0.26) (1.3.0)\n",
      "Requirement already satisfied: pyasn1<0.6.0,>=0.4.6 in /Users/aelfirdo/Library/Python/3.9/lib/python/site-packages (from pyasn1-modules>=0.2.1->google-auth<3,>=1.6.3->tensorboard>=2.4.1->ultralytics==8.0.26) (0.5.0)\n",
      "Requirement already satisfied: oauthlib>=3.0.0 in /Users/aelfirdo/Library/Python/3.9/lib/python/site-packages (from requests-oauthlib>=0.7.0->google-auth-oauthlib<1.1,>=0.5->tensorboard>=2.4.1->ultralytics==8.0.26) (3.2.2)\n",
      "Downloading sentry_sdk-1.31.0-py2.py3-none-any.whl (224 kB)\n",
      "\u001b[2K   \u001b[90m━━━━━━━━━━━━━━━━━━━━━━━━━━━━━━━━━━━━━━━━\u001b[0m \u001b[32m224.8/224.8 kB\u001b[0m \u001b[31m1.7 MB/s\u001b[0m eta \u001b[36m0:00:00\u001b[0ma \u001b[36m0:00:01\u001b[0m\n",
      "\u001b[?25hInstalling collected packages: sentry-sdk, thop, ultralytics\n",
      "Successfully installed sentry-sdk-1.31.0 thop-0.1.1.post2209072238 ultralytics-8.0.26\n"
     ]
    }
   ],
   "source": [
    "import torch\n",
    "\n",
    "!pip install ultralytics==8.0.26\n",
    "from ultralytics import YOLO\n",
    "# All dependencies go here"
   ]
  },
  {
   "cell_type": "code",
   "execution_count": 11,
   "metadata": {},
   "outputs": [
    {
     "name": "stdout",
     "output_type": "stream",
     "text": [
      "cpu\n"
     ]
    }
   ],
   "source": [
    "# Checking the device used\n",
    "device = (\n",
    "    \"cuda\"\n",
    "    if torch.cuda.is_available()\n",
    "    else \"cpu\"\n",
    ")\n",
    "print(device)"
   ]
  },
  {
   "cell_type": "code",
   "execution_count": 6,
   "metadata": {},
   "outputs": [
    {
     "name": "stdout",
     "output_type": "stream",
     "text": [
      "Ultralytics YOLOv8.0.26 🚀 Python-3.9.6 torch-2.0.1 CPU\n",
      "Model summary (fused): 268 layers, 43607379 parameters, 0 gradients, 164.8 GFLOPs\n",
      "\n",
      "Found https://ultralytics.com/images/bus.jpg locally at bus.jpg\n",
      "image 1/1 /Users/aelfirdo/Desktop/Hackathon/bus.jpg: 640x480 1 building, 361.7ms\n",
      "Speed: 0.5ms pre-process, 361.7ms inference, 8.1ms postprocess per image at shape (1, 3, 640, 640)\n",
      "Results saved to \u001b[1m/Users/aelfirdo/Desktop/AiA-Labs/runs/detect/predict2\u001b[0m\n"
     ]
    }
   ],
   "source": [
    "!yolo task=detect mode=predict model=best_2.pt conf=0.25 source='https://ultralytics.com/images/bus.jpg'"
   ]
  },
  {
   "cell_type": "code",
   "execution_count": 12,
   "metadata": {},
   "outputs": [
    {
     "name": "stdout",
     "output_type": "stream",
     "text": [
      "Ultralytics YOLOv8.0.26 🚀 Python-3.9.6 torch-2.0.1 CPU\n",
      "\u001b[34m\u001b[1myolo/engine/trainer: \u001b[0mtask=detect, mode=train, model=best_2.pt, data=/Users/aelfirdo/Desktop/Hackathon/datasets/satellite-images-cv/data.yaml, epochs=50, patience=50, batch=16, imgsz=640, save=True, cache=False, device=None, workers=8, project=None, name=None, exist_ok=False, pretrained=False, optimizer=SGD, verbose=True, seed=0, deterministic=True, single_cls=False, image_weights=False, rect=False, cos_lr=False, close_mosaic=10, resume=False, overlap_mask=True, mask_ratio=4, dropout=0.0, val=True, save_json=False, save_hybrid=False, conf=None, iou=0.7, max_det=300, half=False, dnn=False, plots=True, source=None, show=False, save_txt=False, save_conf=False, save_crop=False, hide_labels=False, hide_conf=False, vid_stride=1, line_thickness=3, visualize=False, augment=False, agnostic_nms=False, classes=None, retina_masks=False, boxes=True, format=torchscript, keras=False, optimize=False, int8=False, dynamic=False, simplify=False, opset=None, workspace=4, nms=False, lr0=0.01, lrf=0.01, momentum=0.937, weight_decay=0.0005, warmup_epochs=3.0, warmup_momentum=0.8, warmup_bias_lr=0.1, box=7.5, cls=0.5, dfl=1.5, fl_gamma=0.0, label_smoothing=0.0, nbs=64, hsv_h=0.015, hsv_s=0.7, hsv_v=0.4, degrees=0.0, translate=0.1, scale=0.5, shear=0.0, perspective=0.0, flipud=0.0, fliplr=0.5, mosaic=1.0, mixup=0.0, copy_paste=0.0, cfg=None, v5loader=False, save_dir=/Users/aelfirdo/Desktop/AiA-Labs/runs/detect/train5\n",
      "\n",
      "                   from  n    params  module                                       arguments                     \n",
      "  0                  -1  1      1856  ultralytics.nn.modules.Conv                  [3, 64, 3, 2]                 \n",
      "  1                  -1  1     73984  ultralytics.nn.modules.Conv                  [64, 128, 3, 2]               \n",
      "  2                  -1  3    279808  ultralytics.nn.modules.C2f                   [128, 128, 3, True]           \n",
      "  3                  -1  1    295424  ultralytics.nn.modules.Conv                  [128, 256, 3, 2]              \n",
      "  4                  -1  6   2101248  ultralytics.nn.modules.C2f                   [256, 256, 6, True]           \n",
      "  5                  -1  1   1180672  ultralytics.nn.modules.Conv                  [256, 512, 3, 2]              \n",
      "  6                  -1  6   8396800  ultralytics.nn.modules.C2f                   [512, 512, 6, True]           \n",
      "  7                  -1  1   2360320  ultralytics.nn.modules.Conv                  [512, 512, 3, 2]              \n",
      "  8                  -1  3   4461568  ultralytics.nn.modules.C2f                   [512, 512, 3, True]           \n",
      "  9                  -1  1    656896  ultralytics.nn.modules.SPPF                  [512, 512, 5]                 \n",
      " 10                  -1  1         0  torch.nn.modules.upsampling.Upsample         [None, 2, 'nearest']          \n",
      " 11             [-1, 6]  1         0  ultralytics.nn.modules.Concat                [1]                           \n",
      " 12                  -1  3   4723712  ultralytics.nn.modules.C2f                   [1024, 512, 3]                \n",
      " 13                  -1  1         0  torch.nn.modules.upsampling.Upsample         [None, 2, 'nearest']          \n",
      " 14             [-1, 4]  1         0  ultralytics.nn.modules.Concat                [1]                           \n",
      " 15                  -1  3   1247744  ultralytics.nn.modules.C2f                   [768, 256, 3]                 \n",
      " 16                  -1  1    590336  ultralytics.nn.modules.Conv                  [256, 256, 3, 2]              \n",
      " 17            [-1, 12]  1         0  ultralytics.nn.modules.Concat                [1]                           \n",
      " 18                  -1  3   4592640  ultralytics.nn.modules.C2f                   [768, 512, 3]                 \n",
      " 19                  -1  1   2360320  ultralytics.nn.modules.Conv                  [512, 512, 3, 2]              \n",
      " 20             [-1, 9]  1         0  ultralytics.nn.modules.Concat                [1]                           \n",
      " 21                  -1  3   4723712  ultralytics.nn.modules.C2f                   [1024, 512, 3]                \n",
      " 22        [15, 18, 21]  1   5583571  ultralytics.nn.modules.Detect                [1, [256, 512, 512]]          \n",
      "Model summary: 365 layers, 43630611 parameters, 43630595 gradients, 165.4 GFLOPs\n",
      "\n",
      "Transferred 595/595 items from pretrained weights\n",
      "\u001b[34m\u001b[1moptimizer:\u001b[0m SGD(lr=0.01) with parameter groups 97 weight(decay=0.0), 104 weight(decay=0.0005), 103 bias\n",
      "\u001b[34m\u001b[1mtrain: \u001b[0mScanning /Users/aelfirdo/Desktop/Hackathon/datasets/satellite-images-cv/t\u001b[0m\n",
      "\u001b[34m\u001b[1mval: \u001b[0mScanning /Users/aelfirdo/Desktop/Hackathon/datasets/satellite-images-cv/val\u001b[0m\n",
      "Image sizes 640 train, 640 val\n",
      "Using 0 dataloader workers\n",
      "Logging results to \u001b[1m/Users/aelfirdo/Desktop/AiA-Labs/runs/detect/train5\u001b[0m\n",
      "Starting training for 50 epochs...\n",
      "\n",
      "      Epoch    GPU_mem   box_loss   cls_loss   dfl_loss  Instances       Size\n",
      "  0%|          | 0/8 [00:00<?, ?it/s]"
     ]
    }
   ],
   "source": [
    "!yolo task=detect mode=train model=best_2.pt data=/Users/aelfirdo/Desktop/Hackathon/datasets/satellite-images-cv/data.yaml epochs=50 imgsz=640"
   ]
  },
  {
   "cell_type": "code",
   "execution_count": null,
   "metadata": {},
   "outputs": [],
   "source": []
  }
 ],
 "metadata": {
  "kernelspec": {
   "display_name": "Python 3",
   "language": "python",
   "name": "python3"
  },
  "language_info": {
   "codemirror_mode": {
    "name": "ipython",
    "version": 3
   },
   "file_extension": ".py",
   "mimetype": "text/x-python",
   "name": "python",
   "nbconvert_exporter": "python",
   "pygments_lexer": "ipython3",
   "version": "3.9.6"
  },
  "orig_nbformat": 4
 },
 "nbformat": 4,
 "nbformat_minor": 2
}
